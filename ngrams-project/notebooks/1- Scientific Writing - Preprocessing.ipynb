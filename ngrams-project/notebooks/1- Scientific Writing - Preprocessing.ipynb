{
 "cells": [
  {
   "cell_type": "code",
   "execution_count": 27,
   "metadata": {},
   "outputs": [
    {
     "name": "stdout",
     "output_type": "stream",
     "text": [
      "[nltk_data] Downloading package stopwords to\n",
      "[nltk_data]     /Users/danmontesi/nltk_data...\n",
      "[nltk_data]   Package stopwords is already up-to-date!\n"
     ]
    }
   ],
   "source": [
    "import nltk\n",
    "import collections\n",
    "import itertools\n",
    "nltk.download('stopwords')\n",
    "from nltk.corpus import stopwords\n",
    "stop_words = set(stopwords.words('english'))"
   ]
  },
  {
   "cell_type": "code",
   "execution_count": 21,
   "metadata": {},
   "outputs": [
    {
     "data": {
      "text/plain": [
       "[\"don't\",\n",
       " \"haven't\",\n",
       " \"wasn't\",\n",
       " \"won't\",\n",
       " \"mustn't\",\n",
       " \"isn't\",\n",
       " \"hasn't\",\n",
       " \"needn't\",\n",
       " \"shouldn't\",\n",
       " \"mightn't\",\n",
       " \"doesn't\",\n",
       " \"aren't\",\n",
       " \"wouldn't\",\n",
       " \"hadn't\",\n",
       " \"couldn't\",\n",
       " \"didn't\",\n",
       " \"weren't\",\n",
       " \"shan't\"]"
      ]
     },
     "execution_count": 21,
     "metadata": {},
     "output_type": "execute_result"
    }
   ],
   "source": [
    "stop_words = [str(w) for w in stop_words]\n",
    "negative_stop_words = [w for w in stop_words if \"'t\" in w]\n",
    "negative_stop_words"
   ]
  },
  {
   "cell_type": "markdown",
   "metadata": {},
   "source": [
    "### Problem: contain negative words\n",
    "- As we can see, there are many negative words. \n",
    "- We would like to inglobe them all in a label \"not\" or negative_word label\n",
    "\n",
    "Firstly, we will remove those negative words from the stopwords, then we will transform all those words in the negative tag (similarly to what happens for the laugh_word"
   ]
  },
  {
   "cell_type": "code",
   "execution_count": 16,
   "metadata": {},
   "outputs": [],
   "source": [
    "# Remove negative words\n",
    "stop_words_avoidnot = [w for w in stop_words if \"'t\" not in w]"
   ]
  },
  {
   "cell_type": "code",
   "execution_count": 22,
   "metadata": {},
   "outputs": [],
   "source": [
    "# Put negative_word label\n",
    "negative_stop_words = [w for w in stop_words if \"'t\" in w]\n",
    "negative_stop_words += [\"dont\", \"cant\", \"dnt\"] #TODO: maybe search for others?\n",
    "text = [\"prova\", \"doesn't\"]\n",
    "text_new = []\n",
    "for w in text:\n",
    "    if w not in negative_stop_words:\n",
    "        text_new += [w]\n",
    "    else:\n",
    "        text_new += \"negative_word\""
   ]
  },
  {
   "cell_type": "markdown",
   "metadata": {},
   "source": [
    "### Remove singleton from the tweets\n",
    "- 1- get frequencies of each word \n",
    "- 2- find the singleton and save in list\n",
    "\n",
    "We will remove the singleton from the tweets in every iteration"
   ]
  },
  {
   "cell_type": "code",
   "execution_count": 28,
   "metadata": {},
   "outputs": [],
   "source": [
    "# tweets_nsw is the list of lists containing the tweets\n",
    "# Since I have a dataframe, I read a column as list of lists\n",
    "\n",
    "tweets_nsw = [[\"Ciao\", \"come\", \"va\"], [\"Ciao\", \"va\"]]\n",
    "all_words_nsw = list(itertools.chain(*tweets_nsw))\n",
    "\n",
    "counts_nsw = collections.Counter(all_words_nsw) # Is a dict"
   ]
  },
  {
   "cell_type": "code",
   "execution_count": 43,
   "metadata": {},
   "outputs": [],
   "source": [
    "singletons = []\n",
    "for k in counts_nsw.keys():\n",
    "    if counts_nsw.get(k) == 1:\n",
    "        singletons += [k]\n",
    "        \n",
    "        \n",
    "# FInally add to the list of words to be removed\n",
    "words_to_remove = []\n",
    "words_to_remove += stop_words\n",
    "words_to_remove += singletons"
   ]
  },
  {
   "cell_type": "code",
   "execution_count": 44,
   "metadata": {},
   "outputs": [
    {
     "data": {
      "text/plain": [
       "['come']"
      ]
     },
     "execution_count": 44,
     "metadata": {},
     "output_type": "execute_result"
    }
   ],
   "source": [
    "singletons"
   ]
  },
  {
   "cell_type": "code",
   "execution_count": null,
   "metadata": {},
   "outputs": [],
   "source": []
  },
  {
   "cell_type": "code",
   "execution_count": null,
   "metadata": {},
   "outputs": [],
   "source": []
  }
 ],
 "metadata": {
  "kernelspec": {
   "display_name": "Python 2",
   "language": "python",
   "name": "python2"
  },
  "language_info": {
   "codemirror_mode": {
    "name": "ipython",
    "version": 2
   },
   "file_extension": ".py",
   "mimetype": "text/x-python",
   "name": "python",
   "nbconvert_exporter": "python",
   "pygments_lexer": "ipython2",
   "version": "2.7.15"
  }
 },
 "nbformat": 4,
 "nbformat_minor": 2
}
